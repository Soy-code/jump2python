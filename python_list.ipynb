{
 "cells": [
  {
   "cell_type": "markdown",
   "id": "63771298",
   "metadata": {},
   "source": [
    "### 리스트 생성"
   ]
  },
  {
   "cell_type": "code",
   "execution_count": 1,
   "id": "4ffb2d92",
   "metadata": {},
   "outputs": [],
   "source": [
    "a = [1, 2, 3]  \n",
    "b = ['Hello', 'Python']\n",
    "c = [1, 2, 'Hello', 'Python']\n",
    "d = [1, 2, ['Hello', 'Python']]"
   ]
  },
  {
   "cell_type": "code",
   "execution_count": 11,
   "id": "67173d63",
   "metadata": {},
   "outputs": [
    {
     "name": "stdout",
     "output_type": "stream",
     "text": [
      "[0, 1, 2, 3, 4, 5, 6, 7, 8, 9, 10, 11, 12, 13, 14, 15, 16, 17, 18, 19, 20, 21, 22, 23, 24, 25, 26, 27, 28, 29]\n"
     ]
    }
   ],
   "source": [
    "# 연속된 리스트 생성\n",
    "a = [i for i in range(30)] ; print(a)"
   ]
  },
  {
   "cell_type": "markdown",
   "id": "82ce969d",
   "metadata": {},
   "source": [
    "### 리스트 인덱싱"
   ]
  },
  {
   "cell_type": "code",
   "execution_count": 2,
   "id": "0bcd8104",
   "metadata": {},
   "outputs": [
    {
     "name": "stdout",
     "output_type": "stream",
     "text": [
      "1\n",
      "['i', 'c', 'e']\n",
      "['i', 'c', 'e']\n"
     ]
    }
   ],
   "source": [
    "a = [1, 2, 3, ['i', 'c', 'e']]\n",
    "print(a[0])\n",
    "print(a[-1])\n",
    "print(a[3])"
   ]
  },
  {
   "cell_type": "code",
   "execution_count": 3,
   "id": "43d36830",
   "metadata": {},
   "outputs": [
    {
     "name": "stdout",
     "output_type": "stream",
     "text": [
      "e\n"
     ]
    }
   ],
   "source": [
    "print(a[-1][-1])"
   ]
  },
  {
   "cell_type": "code",
   "execution_count": 5,
   "id": "5451c0fb",
   "metadata": {},
   "outputs": [
    {
     "name": "stdout",
     "output_type": "stream",
     "text": [
      "1\n",
      "['a', 'b', ['life', 'short']]\n",
      "['b', ['life', 'short']]\n"
     ]
    }
   ],
   "source": [
    "# 삼중 리스트 인덱싱\n",
    "a = [1, 2, ['a', 'b', ['life', 'short']]]\n",
    "print(a[0])\n",
    "print(a[-1])\n",
    "print(a[-1][1:])"
   ]
  },
  {
   "cell_type": "code",
   "execution_count": 20,
   "id": "00700b93",
   "metadata": {},
   "outputs": [
    {
     "name": "stdout",
     "output_type": "stream",
     "text": [
      "a ==> [0, 1, 2, 3, 4, 5, 6, 7, 8, 9, 10, 11, 12, 13, 14, 15, 16, 17, 18, 19, 20, 21, 22, 23, 24, 25, 26, 27, 28, 29]\n",
      "\n",
      "index 15 이후 ==> [15, 16, 17, 18, 19, 20, 21, 22, 23, 24, 25, 26, 27, 28, 29]\n",
      "\n",
      "5간격으로 ==> [0, 5, 10, 15, 20, 25]\n",
      "\n",
      "2의 배수 ==> [0, 2, 4, 6, 8, 10, 12, 14, 16, 18, 20, 22, 24, 26, 28]\n"
     ]
    }
   ],
   "source": [
    "a = [i for i in range(30)]\n",
    "print(\"a ==>\", a)\n",
    "print(\"\\nindex 15 이후 ==>\", a[15:])\n",
    "print(\"\\n5간격으로 ==>\", a[0::5])\n",
    "print(\"\\n2의 배수 ==>\", [i for i in a if i%2 == 0]) # 2의 배수만 출력"
   ]
  },
  {
   "cell_type": "markdown",
   "id": "85c336ec",
   "metadata": {},
   "source": [
    "### 리스트 연산"
   ]
  },
  {
   "cell_type": "code",
   "execution_count": 26,
   "id": "74e07f5c",
   "metadata": {},
   "outputs": [
    {
     "name": "stdout",
     "output_type": "stream",
     "text": [
      "두 리스트 더하기 ==> [1, 2, 3, 4, 5, 6]\n",
      "\n",
      "리스트 반복하기 ==> [1, 2, 3, 1, 2, 3, 1, 2, 3]\n",
      "\n",
      "리스트 요소의 배수값 출력 ==> [3, 6, 9]\n"
     ]
    }
   ],
   "source": [
    "a = [1, 2, 3]\n",
    "b = [4, 5, 6]\n",
    "print(\"두 리스트 더하기 ==>\", a + b)\n",
    "print(\"\\n리스트 반복하기 ==>\", a * 3)\n",
    "print(\"\\n리스트 요소의 배수값 출력 ==>\", [i*3 for i in a])"
   ]
  },
  {
   "cell_type": "markdown",
   "id": "43bcfb1e",
   "metadata": {},
   "source": [
    "### 리스트 관련 함수"
   ]
  },
  {
   "cell_type": "code",
   "execution_count": 36,
   "id": "11cb62b7",
   "metadata": {},
   "outputs": [
    {
     "name": "stdout",
     "output_type": "stream",
     "text": [
      "[3, 6, 2, 1, 9, 10]\n"
     ]
    }
   ],
   "source": [
    "# 요소 추가\n",
    "a = [3, 6, 2, 1 ,9]\n",
    "a.append(10)\n",
    "print(a)"
   ]
  },
  {
   "cell_type": "code",
   "execution_count": 37,
   "id": "bc2feedb",
   "metadata": {},
   "outputs": [
    {
     "data": {
      "text/plain": [
       "[1, 2, 3, 6, 9, 10]"
      ]
     },
     "execution_count": 37,
     "metadata": {},
     "output_type": "execute_result"
    }
   ],
   "source": [
    "# 정렬\n",
    "a.sort()  # a sorting 된 걸로 업데이트 됨 \n",
    "a     "
   ]
  },
  {
   "cell_type": "code",
   "execution_count": 38,
   "id": "b667b9b2",
   "metadata": {},
   "outputs": [
    {
     "data": {
      "text/plain": [
       "[10, 9, 6, 3, 2, 1]"
      ]
     },
     "execution_count": 38,
     "metadata": {},
     "output_type": "execute_result"
    }
   ],
   "source": [
    "# 뒤집기\n",
    "a.reverse() # a reversed 된 걸로 업데이트 됨\n",
    "a  "
   ]
  },
  {
   "cell_type": "code",
   "execution_count": 39,
   "id": "308ba827",
   "metadata": {},
   "outputs": [
    {
     "data": {
      "text/plain": [
       "0"
      ]
     },
     "execution_count": 39,
     "metadata": {},
     "output_type": "execute_result"
    }
   ],
   "source": [
    "# index 출력\n",
    "a.index(10)  # 10의 인덱스 추출"
   ]
  },
  {
   "cell_type": "code",
   "execution_count": 40,
   "id": "9100e5f0",
   "metadata": {},
   "outputs": [
    {
     "name": "stdout",
     "output_type": "stream",
     "text": [
      "수정 전 ==> [10, 9, 6, 3, 2, 1]\n",
      "수정 후 ==> [10, 9, 6, 'hello', 2, 1]\n"
     ]
    }
   ],
   "source": [
    "# 리스트 요소 수정\n",
    "print(\"수정 전 ==>\", a)\n",
    "a[3] = 'hello'\n",
    "print(\"수정 후 ==>\", a )"
   ]
  },
  {
   "cell_type": "code",
   "execution_count": 41,
   "id": "c8c07290",
   "metadata": {},
   "outputs": [
    {
     "name": "stdout",
     "output_type": "stream",
     "text": [
      "삭제 전 ==> [10, 9, 6, 'hello', 2, 1]\n",
      "삭제 후 ==> [10, 9, 6, 2, 1]\n"
     ]
    }
   ],
   "source": [
    "# 리스트 요소 삭제\n",
    "print(\"삭제 전 ==>\", a)\n",
    "del a[3]  # 인덱스 이용\n",
    "print(\"삭제 후 ==>\", a)"
   ]
  },
  {
   "cell_type": "code",
   "execution_count": 42,
   "id": "64a51850",
   "metadata": {},
   "outputs": [
    {
     "name": "stdout",
     "output_type": "stream",
     "text": [
      "삭제 전 ==> [10, 9, 6, 2, 1]\n",
      "삭제 후 ==> [10, 9, 2, 1]\n"
     ]
    }
   ],
   "source": [
    "# remove를 이용하여 리스트 요소 제거\n",
    "print(\"삭제 전 ==>\", a)\n",
    "a.remove(6)  # 삭제할 값 이용\n",
    "print(\"삭제 후 ==>\", a)"
   ]
  },
  {
   "cell_type": "code",
   "execution_count": 44,
   "id": "348a89ec",
   "metadata": {},
   "outputs": [
    {
     "name": "stdout",
     "output_type": "stream",
     "text": [
      "pop 적용 전 ==> [10, 9, 2, 1]\n",
      "pop 적용 후 ==> [10, 2, 1]\n"
     ]
    }
   ],
   "source": [
    "# 리스트에서 해당 요소 끄집어내기\n",
    "print(\"pop 적용 전 ==>\", a)\n",
    "a.pop(1)  # (): 맨 마지막 값, (인덱스값)\n",
    "print(\"pop 적용 후 ==>\", a)"
   ]
  },
  {
   "cell_type": "code",
   "execution_count": 47,
   "id": "7cc04159",
   "metadata": {},
   "outputs": [
    {
     "name": "stdout",
     "output_type": "stream",
     "text": [
      "리스트 a 출력 ==>  [10, 2, 1]\n",
      "리스트 a의 요소 개수 ==> 3\n"
     ]
    }
   ],
   "source": [
    "# 리스트 안에 포함된 요소(길이) 세기 \n",
    "print(\"리스트 a 출력 ==> \", a)\n",
    "print(\"리스트 a의 요소 개수 ==>\", len(a))"
   ]
  },
  {
   "cell_type": "code",
   "execution_count": 49,
   "id": "7f52d58e",
   "metadata": {},
   "outputs": [
    {
     "name": "stdout",
     "output_type": "stream",
     "text": [
      "리스트 a 출력 ==> [10, 10, 0, 20, 3, 10, 20]\n",
      "리스트 a에서 10의 개수 ==> 3\n"
     ]
    }
   ],
   "source": [
    "# 리스트 안에 특정 요소 개수 세기\n",
    "a = [10, 10, 0, 20, 3, 10, 20]\n",
    "print(\"리스트 a 출력 ==>\", a)\n",
    "print(\"리스트 a에서 10의 개수 ==>\", a.count(10))"
   ]
  },
  {
   "cell_type": "code",
   "execution_count": 50,
   "id": "6e60d2e0",
   "metadata": {},
   "outputs": [
    {
     "name": "stdout",
     "output_type": "stream",
     "text": [
      "확장 전 ==> [10, 10, 0, 20, 3, 10, 20]\n",
      "확장 후 ==> [10, 10, 0, 20, 3, 10, 20, 'hey', 'heyyy']\n"
     ]
    }
   ],
   "source": [
    "# 리스트 확장 : '+'와 같은 역할\n",
    "print(\"확장 전 ==>\", a)\n",
    "b = ['hey', 'heyyy']\n",
    "a.extend(b)\n",
    "print(\"확장 후 ==>\", a)"
   ]
  },
  {
   "cell_type": "code",
   "execution_count": null,
   "id": "90671ea8",
   "metadata": {},
   "outputs": [],
   "source": []
  }
 ],
 "metadata": {
  "kernelspec": {
   "display_name": "Python 3 (ipykernel)",
   "language": "python",
   "name": "python3"
  },
  "language_info": {
   "codemirror_mode": {
    "name": "ipython",
    "version": 3
   },
   "file_extension": ".py",
   "mimetype": "text/x-python",
   "name": "python",
   "nbconvert_exporter": "python",
   "pygments_lexer": "ipython3",
   "version": "3.9.7"
  }
 },
 "nbformat": 4,
 "nbformat_minor": 5
}
